{
 "cells": [
  {
   "cell_type": "code",
   "execution_count": 10,
   "metadata": {
    "collapsed": true
   },
   "outputs": [],
   "source": [
    "import theano\n",
    "import theano.tensor as T\n",
    "\n",
    "import lasagne\n",
    "from lasagne.layers import *\n",
    "\n",
    "import numpy\n",
    "\n",
    "import pickle"
   ]
  },
  {
   "cell_type": "code",
   "execution_count": 3,
   "metadata": {
    "collapsed": true
   },
   "outputs": [],
   "source": [
    "def e_relu(x):\n",
    "    return T.nnet.relu(x + 1) - 1"
   ]
  },
  {
   "cell_type": "code",
   "execution_count": 2,
   "metadata": {
    "collapsed": true
   },
   "outputs": [],
   "source": [
    "inputPreds = T.tensor3(\"Traffic Light State\", \"float32\")\n",
    "targerSec = T.vector(\"Second\", \"int32\")\n",
    "\n",
    "predsShape = [None, 3, 303]"
   ]
  },
  {
   "cell_type": "code",
   "execution_count": 8,
   "metadata": {},
   "outputs": [],
   "source": [
    "def build_net(input_shape, input_var = None):\n",
    "    net = InputLayer(predsShape, inputPreds)\n",
    "\n",
    "    net = Conv1DLayer(net, 8, 8)\n",
    "    net = Conv1DLayer(net, 8, 8)\n",
    "    net = Conv1DLayer(net, 8, 8)\n",
    "\n",
    "    net = DenseLayer(net, 250)\n",
    "    net = DenseLayer(net, 1, nonlinearity=e_relu)\n",
    "    \n",
    "    return net"
   ]
  },
  {
   "cell_type": "code",
   "execution_count": 14,
   "metadata": {},
   "outputs": [],
   "source": [
    "def save_model(model, fname=\"finder_weights.pcl\"):\n",
    "    with open(fname, \"wb\") as f:\n",
    "        pickle.dump(get_all_params(model), fname)"
   ]
  },
  {
   "cell_type": "code",
   "execution_count": 9,
   "metadata": {},
   "outputs": [],
   "source": [
    "net = build_net(predsShape, inputPreds)\n",
    "\n",
    "out = get_output(net)\n",
    "params = get_all_params(net, trainable=True)\n",
    "\n",
    "loss = T.mean((targerSec - out)**2)\n",
    "updates = lasagne.updates.adam(loss, params)\n",
    "\n",
    "train_fun = theano.function([inputPreds, targerSec], loss, updates=updates, allow_input_downcast=True)"
   ]
  },
  {
   "cell_type": "code",
   "execution_count": null,
   "metadata": {
    "collapsed": true
   },
   "outputs": [],
   "source": []
  }
 ],
 "metadata": {
  "kernelspec": {
   "display_name": "Python [default]",
   "language": "python",
   "name": "python2"
  },
  "language_info": {
   "codemirror_mode": {
    "name": "ipython",
    "version": 2
   },
   "file_extension": ".py",
   "mimetype": "text/x-python",
   "name": "python",
   "nbconvert_exporter": "python",
   "pygments_lexer": "ipython2",
   "version": "2.7.13"
  }
 },
 "nbformat": 4,
 "nbformat_minor": 2
}
